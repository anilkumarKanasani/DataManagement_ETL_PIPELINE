{
 "metadata": {
  "language_info": {
   "codemirror_mode": {
    "name": "ipython",
    "version": 3
   },
   "file_extension": ".py",
   "mimetype": "text/x-python",
   "name": "python",
   "nbconvert_exporter": "python",
   "pygments_lexer": "ipython3",
   "version": "3.7.6-final"
  },
  "orig_nbformat": 2,
  "kernelspec": {
   "name": "python3",
   "display_name": "Python 3"
  }
 },
 "nbformat": 4,
 "nbformat_minor": 2,
 "cells": [
  {
   "source": [
    "#### Getting all the requried packages\n",
    "#### Connecting to glue with boto3 client\n",
    "#### Defining user defined functions"
   ],
   "cell_type": "markdown",
   "metadata": {}
  },
  {
   "cell_type": "code",
   "execution_count": 1,
   "metadata": {},
   "outputs": [
    {
     "output_type": "error",
     "ename": "EntityNotFoundException",
     "evalue": "An error occurred (EntityNotFoundException) when calling the GetTables operation: Database ds4c_metadata not found.",
     "traceback": [
      "\u001b[1;31m---------------------------------------------------------------------------\u001b[0m",
      "\u001b[1;31mEntityNotFoundException\u001b[0m                   Traceback (most recent call last)",
      "\u001b[1;32m<ipython-input-1-2728fa5a17fe>\u001b[0m in \u001b[0;36m<module>\u001b[1;34m\u001b[0m\n\u001b[0;32m      7\u001b[0m \u001b[0mglue_client\u001b[0m \u001b[1;33m=\u001b[0m \u001b[0mboto3\u001b[0m\u001b[1;33m.\u001b[0m\u001b[0mclient\u001b[0m\u001b[1;33m(\u001b[0m\u001b[1;34m'glue'\u001b[0m\u001b[1;33m,\u001b[0m \u001b[0mregion_name\u001b[0m\u001b[1;33m=\u001b[0m\u001b[1;34m'eu-central-1'\u001b[0m\u001b[1;33m)\u001b[0m\u001b[1;33m\u001b[0m\u001b[1;33m\u001b[0m\u001b[0m\n\u001b[0;32m      8\u001b[0m response = glue_client.get_tables(\n\u001b[1;32m----> 9\u001b[1;33m     DatabaseName='ds4c_metadata')\n\u001b[0m\u001b[0;32m     10\u001b[0m \u001b[1;33m\u001b[0m\u001b[0m\n\u001b[0;32m     11\u001b[0m \u001b[1;32mdef\u001b[0m \u001b[0mprint_info\u001b[0m\u001b[1;33m(\u001b[0m\u001b[1;33m)\u001b[0m\u001b[1;33m:\u001b[0m\u001b[1;33m\u001b[0m\u001b[1;33m\u001b[0m\u001b[0m\n",
      "\u001b[1;32m~\\anaconda3\\lib\\site-packages\\botocore\\client.py\u001b[0m in \u001b[0;36m_api_call\u001b[1;34m(self, *args, **kwargs)\u001b[0m\n\u001b[0;32m    314\u001b[0m                     \"%s() only accepts keyword arguments.\" % py_operation_name)\n\u001b[0;32m    315\u001b[0m             \u001b[1;31m# The \"self\" in this scope is referring to the BaseClient.\u001b[0m\u001b[1;33m\u001b[0m\u001b[1;33m\u001b[0m\u001b[1;33m\u001b[0m\u001b[0m\n\u001b[1;32m--> 316\u001b[1;33m             \u001b[1;32mreturn\u001b[0m \u001b[0mself\u001b[0m\u001b[1;33m.\u001b[0m\u001b[0m_make_api_call\u001b[0m\u001b[1;33m(\u001b[0m\u001b[0moperation_name\u001b[0m\u001b[1;33m,\u001b[0m \u001b[0mkwargs\u001b[0m\u001b[1;33m)\u001b[0m\u001b[1;33m\u001b[0m\u001b[1;33m\u001b[0m\u001b[0m\n\u001b[0m\u001b[0;32m    317\u001b[0m \u001b[1;33m\u001b[0m\u001b[0m\n\u001b[0;32m    318\u001b[0m         \u001b[0m_api_call\u001b[0m\u001b[1;33m.\u001b[0m\u001b[0m__name__\u001b[0m \u001b[1;33m=\u001b[0m \u001b[0mstr\u001b[0m\u001b[1;33m(\u001b[0m\u001b[0mpy_operation_name\u001b[0m\u001b[1;33m)\u001b[0m\u001b[1;33m\u001b[0m\u001b[1;33m\u001b[0m\u001b[0m\n",
      "\u001b[1;32m~\\anaconda3\\lib\\site-packages\\botocore\\client.py\u001b[0m in \u001b[0;36m_make_api_call\u001b[1;34m(self, operation_name, api_params)\u001b[0m\n\u001b[0;32m    633\u001b[0m             \u001b[0merror_code\u001b[0m \u001b[1;33m=\u001b[0m \u001b[0mparsed_response\u001b[0m\u001b[1;33m.\u001b[0m\u001b[0mget\u001b[0m\u001b[1;33m(\u001b[0m\u001b[1;34m\"Error\"\u001b[0m\u001b[1;33m,\u001b[0m \u001b[1;33m{\u001b[0m\u001b[1;33m}\u001b[0m\u001b[1;33m)\u001b[0m\u001b[1;33m.\u001b[0m\u001b[0mget\u001b[0m\u001b[1;33m(\u001b[0m\u001b[1;34m\"Code\"\u001b[0m\u001b[1;33m)\u001b[0m\u001b[1;33m\u001b[0m\u001b[1;33m\u001b[0m\u001b[0m\n\u001b[0;32m    634\u001b[0m             \u001b[0merror_class\u001b[0m \u001b[1;33m=\u001b[0m \u001b[0mself\u001b[0m\u001b[1;33m.\u001b[0m\u001b[0mexceptions\u001b[0m\u001b[1;33m.\u001b[0m\u001b[0mfrom_code\u001b[0m\u001b[1;33m(\u001b[0m\u001b[0merror_code\u001b[0m\u001b[1;33m)\u001b[0m\u001b[1;33m\u001b[0m\u001b[1;33m\u001b[0m\u001b[0m\n\u001b[1;32m--> 635\u001b[1;33m             \u001b[1;32mraise\u001b[0m \u001b[0merror_class\u001b[0m\u001b[1;33m(\u001b[0m\u001b[0mparsed_response\u001b[0m\u001b[1;33m,\u001b[0m \u001b[0moperation_name\u001b[0m\u001b[1;33m)\u001b[0m\u001b[1;33m\u001b[0m\u001b[1;33m\u001b[0m\u001b[0m\n\u001b[0m\u001b[0;32m    636\u001b[0m         \u001b[1;32melse\u001b[0m\u001b[1;33m:\u001b[0m\u001b[1;33m\u001b[0m\u001b[1;33m\u001b[0m\u001b[0m\n\u001b[0;32m    637\u001b[0m             \u001b[1;32mreturn\u001b[0m \u001b[0mparsed_response\u001b[0m\u001b[1;33m\u001b[0m\u001b[1;33m\u001b[0m\u001b[0m\n",
      "\u001b[1;31mEntityNotFoundException\u001b[0m: An error occurred (EntityNotFoundException) when calling the GetTables operation: Database ds4c_metadata not found."
     ]
    }
   ],
   "source": [
    "import boto3\n",
    "from IPython.display import HTML, display\n",
    "import tabulate\n",
    "from datetime import datetime\n",
    "import pandas as pd\n",
    "\n",
    "glue_client = boto3.client('glue', region_name='eu-central-1')\n",
    "response = glue_client.get_tables(\n",
    "    DatabaseName='ds4c_metadata')\n",
    "\n",
    "def print_info():\n",
    "    response = glue_client.get_tables(\n",
    "    DatabaseName='ds4c_metadata')\n",
    "    for tables in response[\"TableList\"]:\n",
    "        print(\"----------------------------------------\")\n",
    "        print('Table Name :    ' , tables['Name'])\n",
    "        print(\"----------------------------------------\")\n",
    "        table = []\n",
    "        for attribute in (tables['StorageDescriptor']['Columns']):\n",
    "            table.append( [attribute [\"Name\"] , ':' , attribute [\"Type\"]])\n",
    "        display(HTML(tabulate.tabulate(table, tablefmt='html')))\n",
    "def up ( Table_name , Columns):\n",
    "    glue_client.update_table(\n",
    "    DatabaseName='ds4c_metadata',\n",
    "    TableInput={\n",
    "        'Name': Table_name,\n",
    "        'Owner': 'Anil Kumar Kanasani',\n",
    "        'LastAccessTime': datetime.now(),\n",
    "        'LastAnalyzedTime': datetime.now(),\n",
    "        'StorageDescriptor': {\n",
    "            'Columns': Columns\n",
    "        }  } )"
   ]
  },
  {
   "source": [
    "\n",
    "#### Seeing the present RAW data schema and data Types"
   ],
   "cell_type": "markdown",
   "metadata": {}
  },
  {
   "cell_type": "code",
   "execution_count": 2,
   "metadata": {},
   "outputs": [
    {
     "output_type": "stream",
     "name": "stdout",
     "text": [
      "----------------------------------------\nTable Name :     hospital_record_cases\n----------------------------------------\n"
     ]
    },
    {
     "output_type": "display_data",
     "data": {
      "text/plain": "<IPython.core.display.HTML object>",
      "text/html": "<table>\n<tbody>\n<tr><td>group         </td><td>:</td><td>string</td></tr>\n<tr><td>city          </td><td>:</td><td>string</td></tr>\n<tr><td>case_id       </td><td>:</td><td>string</td></tr>\n<tr><td>confirmed     </td><td>:</td><td>string</td></tr>\n<tr><td>infection_case</td><td>:</td><td>string</td></tr>\n<tr><td>province      </td><td>:</td><td>string</td></tr>\n<tr><td>longitutde    </td><td>:</td><td>string</td></tr>\n<tr><td>latitude      </td><td>:</td><td>string</td></tr>\n</tbody>\n</table>"
     },
     "metadata": {}
    },
    {
     "output_type": "stream",
     "name": "stdout",
     "text": [
      "----------------------------------------\nTable Name :     patient_info\n----------------------------------------\n"
     ]
    },
    {
     "output_type": "display_data",
     "data": {
      "text/plain": "<IPython.core.display.HTML object>",
      "text/html": "<table>\n<tbody>\n<tr><td>confirmed_date    </td><td>:</td><td>string</td></tr>\n<tr><td>infected_by       </td><td>:</td><td>string</td></tr>\n<tr><td>sex               </td><td>:</td><td>string</td></tr>\n<tr><td>state             </td><td>:</td><td>string</td></tr>\n<tr><td>released_date     </td><td>:</td><td>string</td></tr>\n<tr><td>deceased_date     </td><td>:</td><td>string</td></tr>\n<tr><td>symptom_onset_date</td><td>:</td><td>string</td></tr>\n<tr><td>city              </td><td>:</td><td>string</td></tr>\n<tr><td>country           </td><td>:</td><td>string</td></tr>\n<tr><td>infection_case    </td><td>:</td><td>string</td></tr>\n<tr><td>province          </td><td>:</td><td>string</td></tr>\n<tr><td>patient_id        </td><td>:</td><td>string</td></tr>\n<tr><td>contact_number    </td><td>:</td><td>string</td></tr>\n<tr><td>age               </td><td>:</td><td>string</td></tr>\n</tbody>\n</table>"
     },
     "metadata": {}
    },
    {
     "output_type": "stream",
     "name": "stdout",
     "text": [
      "----------------------------------------\nTable Name :     region_south_korea\n----------------------------------------\n"
     ]
    },
    {
     "output_type": "display_data",
     "data": {
      "text/plain": "<IPython.core.display.HTML object>",
      "text/html": "<table>\n<tbody>\n<tr><td>nursing_home_count      </td><td>:</td><td>string</td></tr>\n<tr><td>code                    </td><td>:</td><td>string</td></tr>\n<tr><td>city                    </td><td>:</td><td>string</td></tr>\n<tr><td>academy_ratio           </td><td>:</td><td>string</td></tr>\n<tr><td>elementary_school_count </td><td>:</td><td>string</td></tr>\n<tr><td>elderly_alone_ratio     </td><td>:</td><td>string</td></tr>\n<tr><td>kindergarten_count      </td><td>:</td><td>string</td></tr>\n<tr><td>longitude               </td><td>:</td><td>string</td></tr>\n<tr><td>elderly_population_ratio</td><td>:</td><td>string</td></tr>\n<tr><td>province                </td><td>:</td><td>string</td></tr>\n<tr><td>latitude                </td><td>:</td><td>string</td></tr>\n<tr><td>university_count        </td><td>:</td><td>string</td></tr>\n</tbody>\n</table>"
     },
     "metadata": {}
    },
    {
     "output_type": "stream",
     "name": "stdout",
     "text": [
      "----------------------------------------\nTable Name :     search_trend_south_korea\n----------------------------------------\n"
     ]
    },
    {
     "output_type": "display_data",
     "data": {
      "text/plain": "<IPython.core.display.HTML object>",
      "text/html": "<table>\n<tbody>\n<tr><td>date       </td><td>:</td><td>string</td></tr>\n<tr><td>record_id  </td><td>:</td><td>string</td></tr>\n<tr><td>cold       </td><td>:</td><td>string</td></tr>\n<tr><td>pneumonia  </td><td>:</td><td>string</td></tr>\n<tr><td>coronavirus</td><td>:</td><td>string</td></tr>\n<tr><td>flu        </td><td>:</td><td>string</td></tr>\n</tbody>\n</table>"
     },
     "metadata": {}
    },
    {
     "output_type": "stream",
     "name": "stdout",
     "text": [
      "----------------------------------------\nTable Name :     time_age\n----------------------------------------\n"
     ]
    },
    {
     "output_type": "display_data",
     "data": {
      "text/plain": "<IPython.core.display.HTML object>",
      "text/html": "<table>\n<tbody>\n<tr><td>date     </td><td>:</td><td>string</td></tr>\n<tr><td>confirmed</td><td>:</td><td>string</td></tr>\n<tr><td>record_id</td><td>:</td><td>string</td></tr>\n<tr><td>deceased </td><td>:</td><td>string</td></tr>\n<tr><td>time     </td><td>:</td><td>string</td></tr>\n<tr><td>age      </td><td>:</td><td>string</td></tr>\n</tbody>\n</table>"
     },
     "metadata": {}
    },
    {
     "output_type": "stream",
     "name": "stdout",
     "text": [
      "----------------------------------------\nTable Name :     time_gender\n----------------------------------------\n"
     ]
    },
    {
     "output_type": "display_data",
     "data": {
      "text/plain": "<IPython.core.display.HTML object>",
      "text/html": "<table>\n<tbody>\n<tr><td>date     </td><td>:</td><td>string</td></tr>\n<tr><td>confirmed</td><td>:</td><td>string</td></tr>\n<tr><td>sex      </td><td>:</td><td>string</td></tr>\n<tr><td>record_id</td><td>:</td><td>string</td></tr>\n<tr><td>deceased </td><td>:</td><td>string</td></tr>\n<tr><td>time     </td><td>:</td><td>string</td></tr>\n</tbody>\n</table>"
     },
     "metadata": {}
    },
    {
     "output_type": "stream",
     "name": "stdout",
     "text": [
      "----------------------------------------\nTable Name :     time_provience\n----------------------------------------\n"
     ]
    },
    {
     "output_type": "display_data",
     "data": {
      "text/plain": "<IPython.core.display.HTML object>",
      "text/html": "<table>\n<tbody>\n<tr><td>date     </td><td>:</td><td>string</td></tr>\n<tr><td>released </td><td>:</td><td>string</td></tr>\n<tr><td>confirmed</td><td>:</td><td>string</td></tr>\n<tr><td>record_id</td><td>:</td><td>string</td></tr>\n<tr><td>deceased </td><td>:</td><td>string</td></tr>\n<tr><td>time     </td><td>:</td><td>string</td></tr>\n<tr><td>province </td><td>:</td><td>string</td></tr>\n</tbody>\n</table>"
     },
     "metadata": {}
    },
    {
     "output_type": "stream",
     "name": "stdout",
     "text": [
      "----------------------------------------\nTable Name :     time_reported\n----------------------------------------\n"
     ]
    },
    {
     "output_type": "display_data",
     "data": {
      "text/plain": "<IPython.core.display.HTML object>",
      "text/html": "<table>\n<tbody>\n<tr><td>date     </td><td>:</td><td>string</td></tr>\n<tr><td>released </td><td>:</td><td>string</td></tr>\n<tr><td>test     </td><td>:</td><td>string</td></tr>\n<tr><td>confirmed</td><td>:</td><td>string</td></tr>\n<tr><td>record_id</td><td>:</td><td>string</td></tr>\n<tr><td>negative </td><td>:</td><td>string</td></tr>\n<tr><td>deceased </td><td>:</td><td>string</td></tr>\n<tr><td>time     </td><td>:</td><td>string</td></tr>\n</tbody>\n</table>"
     },
     "metadata": {}
    },
    {
     "output_type": "stream",
     "name": "stdout",
     "text": [
      "----------------------------------------\nTable Name :     weather_south_korea\n----------------------------------------\n"
     ]
    },
    {
     "output_type": "display_data",
     "data": {
      "text/plain": "<IPython.core.display.HTML object>",
      "text/html": "<table>\n<tbody>\n<tr><td>date                 </td><td>:</td><td>string</td></tr>\n<tr><td>most_wind_direction  </td><td>:</td><td>string</td></tr>\n<tr><td>code                 </td><td>:</td><td>string</td></tr>\n<tr><td>max_wind_speed       </td><td>:</td><td>string</td></tr>\n<tr><td>precipitation        </td><td>:</td><td>string</td></tr>\n<tr><td>max_temp             </td><td>:</td><td>string</td></tr>\n<tr><td>avg_relative_humidity</td><td>:</td><td>string</td></tr>\n<tr><td>record_id            </td><td>:</td><td>string</td></tr>\n<tr><td>province             </td><td>:</td><td>string</td></tr>\n<tr><td>min_temp             </td><td>:</td><td>string</td></tr>\n<tr><td>avg_temp             </td><td>:</td><td>string</td></tr>\n</tbody>\n</table>"
     },
     "metadata": {}
    }
   ],
   "source": [
    "print_info()"
   ]
  },
  {
   "source": [
    "\n",
    "#### Updating the schema with user defined inputs"
   ],
   "cell_type": "markdown",
   "metadata": {}
  },
  {
   "cell_type": "code",
   "execution_count": 3,
   "metadata": {},
   "outputs": [
    {
     "output_type": "error",
     "ename": "NameError",
     "evalue": "name 'response' is not defined",
     "traceback": [
      "\u001b[1;31m---------------------------------------------------------------------------\u001b[0m",
      "\u001b[1;31mNameError\u001b[0m                                 Traceback (most recent call last)",
      "\u001b[1;32m<ipython-input-3-86ea79f56ebf>\u001b[0m in \u001b[0;36m<module>\u001b[1;34m\u001b[0m\n\u001b[1;32m----> 1\u001b[1;33m \u001b[1;32mfor\u001b[0m \u001b[0mtables\u001b[0m \u001b[1;32min\u001b[0m \u001b[0mresponse\u001b[0m\u001b[1;33m[\u001b[0m\u001b[1;34m\"TableList\"\u001b[0m\u001b[1;33m]\u001b[0m\u001b[1;33m:\u001b[0m\u001b[1;33m\u001b[0m\u001b[1;33m\u001b[0m\u001b[0m\n\u001b[0m\u001b[0;32m      2\u001b[0m     \u001b[0mdf\u001b[0m \u001b[1;33m=\u001b[0m \u001b[0mpd\u001b[0m\u001b[1;33m.\u001b[0m\u001b[0mread_csv\u001b[0m\u001b[1;33m(\u001b[0m\u001b[1;34m\"4_DataTypes_from_data_Profiling/\"\u001b[0m\u001b[1;33m+\u001b[0m\u001b[0mtables\u001b[0m\u001b[1;33m[\u001b[0m\u001b[1;34m'Name'\u001b[0m\u001b[1;33m]\u001b[0m\u001b[1;33m+\u001b[0m\u001b[1;34m'.csv'\u001b[0m\u001b[1;33m)\u001b[0m\u001b[1;33m\u001b[0m\u001b[1;33m\u001b[0m\u001b[0m\n\u001b[0;32m      3\u001b[0m     \u001b[0mdic\u001b[0m \u001b[1;33m=\u001b[0m \u001b[0mdf\u001b[0m\u001b[1;33m.\u001b[0m\u001b[0mto_dict\u001b[0m\u001b[1;33m(\u001b[0m\u001b[1;33m)\u001b[0m\u001b[1;33m\u001b[0m\u001b[1;33m\u001b[0m\u001b[0m\n\u001b[0;32m      4\u001b[0m     \u001b[0mColumns\u001b[0m \u001b[1;33m=\u001b[0m \u001b[1;33m[\u001b[0m\u001b[1;33m]\u001b[0m\u001b[1;33m\u001b[0m\u001b[1;33m\u001b[0m\u001b[0m\n\u001b[0;32m      5\u001b[0m     \u001b[1;32mfor\u001b[0m \u001b[0mkey\u001b[0m  \u001b[1;32min\u001b[0m \u001b[0mdic\u001b[0m\u001b[1;33m:\u001b[0m\u001b[1;33m\u001b[0m\u001b[1;33m\u001b[0m\u001b[0m\n",
      "\u001b[1;31mNameError\u001b[0m: name 'response' is not defined"
     ]
    }
   ],
   "source": [
    "for tables in response[\"TableList\"]:\n",
    "    df = pd.read_csv(\"4_DataTypes_from_data_Profiling/\"+tables['Name']+'.csv')\n",
    "    dic = df.to_dict()\n",
    "    Columns = []\n",
    "    for key  in dic:\n",
    "        appne_dic = {}\n",
    "        appne_dic['Name'] = key\n",
    "        appne_dic['Type'] = dic[key][0]\n",
    "        Columns.append(appne_dic)\n",
    "    up(Table_name = tables['Name'] ,Columns = Columns)"
   ]
  },
  {
   "source": [
    "\n",
    "#### Seeing information after updating the data Types"
   ],
   "cell_type": "markdown",
   "metadata": {}
  },
  {
   "cell_type": "code",
   "execution_count": 47,
   "metadata": {},
   "outputs": [
    {
     "output_type": "stream",
     "name": "stdout",
     "text": [
      "----------------------------------------\nTable Name :     hospital_record_cases\n----------------------------------------\n"
     ]
    },
    {
     "output_type": "display_data",
     "data": {
      "text/plain": "<IPython.core.display.HTML object>",
      "text/html": "<table>\n<tbody>\n<tr><td>case_id       </td><td>:</td><td>int    </td></tr>\n<tr><td>province      </td><td>:</td><td>string </td></tr>\n<tr><td>city          </td><td>:</td><td>string </td></tr>\n<tr><td>group         </td><td>:</td><td>BOOLEAN</td></tr>\n<tr><td>infection_case</td><td>:</td><td>string </td></tr>\n<tr><td>confirmed     </td><td>:</td><td>int    </td></tr>\n<tr><td>latitude      </td><td>:</td><td>double </td></tr>\n<tr><td>longitude     </td><td>:</td><td>double </td></tr>\n</tbody>\n</table>"
     },
     "metadata": {}
    },
    {
     "output_type": "stream",
     "name": "stdout",
     "text": [
      "----------------------------------------\nTable Name :     patient_info\n----------------------------------------\n"
     ]
    },
    {
     "output_type": "display_data",
     "data": {
      "text/plain": "<IPython.core.display.HTML object>",
      "text/html": "<table>\n<tbody>\n<tr><td>patient_id        </td><td>:</td><td>int   </td></tr>\n<tr><td>sex               </td><td>:</td><td>string</td></tr>\n<tr><td>age               </td><td>:</td><td>string</td></tr>\n<tr><td>country           </td><td>:</td><td>string</td></tr>\n<tr><td>province          </td><td>:</td><td>string</td></tr>\n<tr><td>city              </td><td>:</td><td>string</td></tr>\n<tr><td>infection_case    </td><td>:</td><td>string</td></tr>\n<tr><td>infected_by       </td><td>:</td><td>int   </td></tr>\n<tr><td>contact_number    </td><td>:</td><td>int   </td></tr>\n<tr><td>symptom_onset_date</td><td>:</td><td>date  </td></tr>\n<tr><td>confirmed_date    </td><td>:</td><td>date  </td></tr>\n<tr><td>released_date     </td><td>:</td><td>date  </td></tr>\n<tr><td>deceased_date     </td><td>:</td><td>date  </td></tr>\n<tr><td>state             </td><td>:</td><td>string</td></tr>\n</tbody>\n</table>"
     },
     "metadata": {}
    },
    {
     "output_type": "stream",
     "name": "stdout",
     "text": [
      "----------------------------------------\nTable Name :     region_south_korea\n----------------------------------------\n"
     ]
    },
    {
     "output_type": "display_data",
     "data": {
      "text/plain": "<IPython.core.display.HTML object>",
      "text/html": "<table>\n<tbody>\n<tr><td>code                    </td><td>:</td><td>int   </td></tr>\n<tr><td>province                </td><td>:</td><td>string</td></tr>\n<tr><td>city                    </td><td>:</td><td>string</td></tr>\n<tr><td>latitude                </td><td>:</td><td>double</td></tr>\n<tr><td>longitude               </td><td>:</td><td>double</td></tr>\n<tr><td>elementary_school_count </td><td>:</td><td>int   </td></tr>\n<tr><td>kindergarten_count      </td><td>:</td><td>int   </td></tr>\n<tr><td>university_count        </td><td>:</td><td>int   </td></tr>\n<tr><td>academy_ratio           </td><td>:</td><td>double</td></tr>\n<tr><td>elderly_population_ratio</td><td>:</td><td>double</td></tr>\n<tr><td>elderly_alone_ratio     </td><td>:</td><td>double</td></tr>\n<tr><td>nursing_home_count      </td><td>:</td><td>int   </td></tr>\n</tbody>\n</table>"
     },
     "metadata": {}
    },
    {
     "output_type": "stream",
     "name": "stdout",
     "text": [
      "----------------------------------------\nTable Name :     search_trend_south_korea\n----------------------------------------\n"
     ]
    },
    {
     "output_type": "display_data",
     "data": {
      "text/plain": "<IPython.core.display.HTML object>",
      "text/html": "<table>\n<tbody>\n<tr><td>record_id  </td><td>:</td><td>int   </td></tr>\n<tr><td>date       </td><td>:</td><td>date  </td></tr>\n<tr><td>cold       </td><td>:</td><td>double</td></tr>\n<tr><td>flu        </td><td>:</td><td>double</td></tr>\n<tr><td>pneumonia  </td><td>:</td><td>double</td></tr>\n<tr><td>coronavirus</td><td>:</td><td>double</td></tr>\n</tbody>\n</table>"
     },
     "metadata": {}
    },
    {
     "output_type": "stream",
     "name": "stdout",
     "text": [
      "----------------------------------------\nTable Name :     time_age\n----------------------------------------\n"
     ]
    },
    {
     "output_type": "display_data",
     "data": {
      "text/plain": "<IPython.core.display.HTML object>",
      "text/html": "<table>\n<tbody>\n<tr><td>record_id</td><td>:</td><td>int   </td></tr>\n<tr><td>date     </td><td>:</td><td>date  </td></tr>\n<tr><td>time     </td><td>:</td><td>int   </td></tr>\n<tr><td>age      </td><td>:</td><td>string</td></tr>\n<tr><td>confirmed</td><td>:</td><td>int   </td></tr>\n<tr><td>deceased </td><td>:</td><td>int   </td></tr>\n</tbody>\n</table>"
     },
     "metadata": {}
    },
    {
     "output_type": "stream",
     "name": "stdout",
     "text": [
      "----------------------------------------\nTable Name :     time_gender\n----------------------------------------\n"
     ]
    },
    {
     "output_type": "display_data",
     "data": {
      "text/plain": "<IPython.core.display.HTML object>",
      "text/html": "<table>\n<tbody>\n<tr><td>record_id</td><td>:</td><td>int   </td></tr>\n<tr><td>date     </td><td>:</td><td>date  </td></tr>\n<tr><td>time     </td><td>:</td><td>int   </td></tr>\n<tr><td>sex      </td><td>:</td><td>string</td></tr>\n<tr><td>confirmed</td><td>:</td><td>int   </td></tr>\n<tr><td>deceased </td><td>:</td><td>int   </td></tr>\n</tbody>\n</table>"
     },
     "metadata": {}
    },
    {
     "output_type": "stream",
     "name": "stdout",
     "text": [
      "----------------------------------------\nTable Name :     time_provience\n----------------------------------------\n"
     ]
    },
    {
     "output_type": "display_data",
     "data": {
      "text/plain": "<IPython.core.display.HTML object>",
      "text/html": "<table>\n<tbody>\n<tr><td>record_id</td><td>:</td><td>int   </td></tr>\n<tr><td>date     </td><td>:</td><td>date  </td></tr>\n<tr><td>time     </td><td>:</td><td>int   </td></tr>\n<tr><td>province </td><td>:</td><td>string</td></tr>\n<tr><td>confirmed</td><td>:</td><td>int   </td></tr>\n<tr><td>released </td><td>:</td><td>int   </td></tr>\n<tr><td>deceased </td><td>:</td><td>int   </td></tr>\n</tbody>\n</table>"
     },
     "metadata": {}
    },
    {
     "output_type": "stream",
     "name": "stdout",
     "text": [
      "----------------------------------------\nTable Name :     time_reported\n----------------------------------------\n"
     ]
    },
    {
     "output_type": "display_data",
     "data": {
      "text/plain": "<IPython.core.display.HTML object>",
      "text/html": "<table>\n<tbody>\n<tr><td>record_id</td><td>:</td><td>int </td></tr>\n<tr><td>date     </td><td>:</td><td>date</td></tr>\n<tr><td>time     </td><td>:</td><td>int </td></tr>\n<tr><td>test     </td><td>:</td><td>int </td></tr>\n<tr><td>negative </td><td>:</td><td>int </td></tr>\n<tr><td>confirmed</td><td>:</td><td>int </td></tr>\n<tr><td>released </td><td>:</td><td>int </td></tr>\n<tr><td>deceased </td><td>:</td><td>int </td></tr>\n</tbody>\n</table>"
     },
     "metadata": {}
    },
    {
     "output_type": "stream",
     "name": "stdout",
     "text": [
      "----------------------------------------\nTable Name :     weather_south_korea\n----------------------------------------\n"
     ]
    },
    {
     "output_type": "display_data",
     "data": {
      "text/plain": "<IPython.core.display.HTML object>",
      "text/html": "<table>\n<tbody>\n<tr><td>record_id            </td><td>:</td><td>int   </td></tr>\n<tr><td>code                 </td><td>:</td><td>int   </td></tr>\n<tr><td>province             </td><td>:</td><td>string</td></tr>\n<tr><td>date                 </td><td>:</td><td>date  </td></tr>\n<tr><td>avg_temp             </td><td>:</td><td>double</td></tr>\n<tr><td>min_temp             </td><td>:</td><td>double</td></tr>\n<tr><td>max_temp             </td><td>:</td><td>double</td></tr>\n<tr><td>precipitation        </td><td>:</td><td>int   </td></tr>\n<tr><td>max_wind_speed       </td><td>:</td><td>double</td></tr>\n<tr><td>most_wind_direction  </td><td>:</td><td>double</td></tr>\n<tr><td>avg_relative_humidity</td><td>:</td><td>double</td></tr>\n</tbody>\n</table>"
     },
     "metadata": {}
    }
   ],
   "source": [
    "print_info()"
   ]
  }
 ]
}