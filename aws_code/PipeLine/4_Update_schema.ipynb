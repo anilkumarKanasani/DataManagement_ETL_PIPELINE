{
 "metadata": {
  "language_info": {
   "codemirror_mode": {
    "name": "ipython",
    "version": 3
   },
   "file_extension": ".py",
   "mimetype": "text/x-python",
   "name": "python",
   "nbconvert_exporter": "python",
   "pygments_lexer": "ipython3",
   "version": "3.7.6-final"
  },
  "orig_nbformat": 2,
  "kernelspec": {
   "name": "python3",
   "display_name": "Python 3"
  }
 },
 "nbformat": 4,
 "nbformat_minor": 2,
 "cells": [
  {
   "cell_type": "code",
   "execution_count": 38,
   "metadata": {},
   "outputs": [],
   "source": [
    "import boto3\n",
    "from IPython.display import HTML, display\n",
    "import tabulate\n",
    "from datetime import datetime\n",
    "\n",
    "glue_client = boto3.client('glue', region_name='eu-central-1')\n",
    "\n",
    "response = glue_client.get_tables(\n",
    "    DatabaseName='ds4c_metadata',\n",
    ")"
   ]
  },
  {
   "cell_type": "code",
   "execution_count": 39,
   "metadata": {},
   "outputs": [
    {
     "output_type": "stream",
     "name": "stdout",
     "text": [
      "----------------------------------------\nTable Name :     hospital_record_cases\n----------------------------------------\n"
     ]
    },
    {
     "output_type": "display_data",
     "data": {
      "text/plain": "<IPython.core.display.HTML object>",
      "text/html": "<table>\n<tbody>\n<tr><td>group         </td><td>:</td><td>string</td></tr>\n<tr><td>city          </td><td>:</td><td>string</td></tr>\n<tr><td>case_id       </td><td>:</td><td>string</td></tr>\n<tr><td>confirmed     </td><td>:</td><td>string</td></tr>\n<tr><td>infection_case</td><td>:</td><td>string</td></tr>\n<tr><td>province      </td><td>:</td><td>string</td></tr>\n<tr><td>longitutde    </td><td>:</td><td>string</td></tr>\n<tr><td>latitude      </td><td>:</td><td>string</td></tr>\n</tbody>\n</table>"
     },
     "metadata": {}
    },
    {
     "output_type": "stream",
     "name": "stdout",
     "text": [
      "----------------------------------------\nTable Name :     patient_info\n----------------------------------------\n"
     ]
    },
    {
     "output_type": "display_data",
     "data": {
      "text/plain": "<IPython.core.display.HTML object>",
      "text/html": "<table>\n<tbody>\n<tr><td>confirmed_date    </td><td>:</td><td>string</td></tr>\n<tr><td>infected_by       </td><td>:</td><td>string</td></tr>\n<tr><td>sex               </td><td>:</td><td>string</td></tr>\n<tr><td>state             </td><td>:</td><td>string</td></tr>\n<tr><td>released_date     </td><td>:</td><td>string</td></tr>\n<tr><td>deceased_date     </td><td>:</td><td>string</td></tr>\n<tr><td>symptom_onset_date</td><td>:</td><td>string</td></tr>\n<tr><td>city              </td><td>:</td><td>string</td></tr>\n<tr><td>country           </td><td>:</td><td>string</td></tr>\n<tr><td>infection_case    </td><td>:</td><td>string</td></tr>\n<tr><td>province          </td><td>:</td><td>string</td></tr>\n<tr><td>patient_id        </td><td>:</td><td>string</td></tr>\n<tr><td>contact_number    </td><td>:</td><td>string</td></tr>\n<tr><td>age               </td><td>:</td><td>string</td></tr>\n</tbody>\n</table>"
     },
     "metadata": {}
    },
    {
     "output_type": "stream",
     "name": "stdout",
     "text": [
      "----------------------------------------\nTable Name :     region_south_korea\n----------------------------------------\n"
     ]
    },
    {
     "output_type": "display_data",
     "data": {
      "text/plain": "<IPython.core.display.HTML object>",
      "text/html": "<table>\n<tbody>\n<tr><td>nursing_home_count      </td><td>:</td><td>string</td></tr>\n<tr><td>code                    </td><td>:</td><td>string</td></tr>\n<tr><td>city                    </td><td>:</td><td>string</td></tr>\n<tr><td>academy_ratio           </td><td>:</td><td>string</td></tr>\n<tr><td>elementary_school_count </td><td>:</td><td>string</td></tr>\n<tr><td>elderly_alone_ratio     </td><td>:</td><td>string</td></tr>\n<tr><td>kindergarten_count      </td><td>:</td><td>string</td></tr>\n<tr><td>longitude               </td><td>:</td><td>string</td></tr>\n<tr><td>elderly_population_ratio</td><td>:</td><td>string</td></tr>\n<tr><td>province                </td><td>:</td><td>string</td></tr>\n<tr><td>latitude                </td><td>:</td><td>string</td></tr>\n<tr><td>university_count        </td><td>:</td><td>string</td></tr>\n</tbody>\n</table>"
     },
     "metadata": {}
    },
    {
     "output_type": "stream",
     "name": "stdout",
     "text": [
      "----------------------------------------\nTable Name :     search_trend_south_korea\n----------------------------------------\n"
     ]
    },
    {
     "output_type": "display_data",
     "data": {
      "text/plain": "<IPython.core.display.HTML object>",
      "text/html": "<table>\n<tbody>\n<tr><td>date       </td><td>:</td><td>string</td></tr>\n<tr><td>record_id  </td><td>:</td><td>string</td></tr>\n<tr><td>cold       </td><td>:</td><td>string</td></tr>\n<tr><td>pneumonia  </td><td>:</td><td>string</td></tr>\n<tr><td>coronavirus</td><td>:</td><td>string</td></tr>\n<tr><td>flu        </td><td>:</td><td>string</td></tr>\n</tbody>\n</table>"
     },
     "metadata": {}
    },
    {
     "output_type": "stream",
     "name": "stdout",
     "text": [
      "----------------------------------------\nTable Name :     time_age\n----------------------------------------\n"
     ]
    },
    {
     "output_type": "display_data",
     "data": {
      "text/plain": "<IPython.core.display.HTML object>",
      "text/html": "<table>\n<tbody>\n<tr><td>date     </td><td>:</td><td>string</td></tr>\n<tr><td>confirmed</td><td>:</td><td>string</td></tr>\n<tr><td>record_id</td><td>:</td><td>string</td></tr>\n<tr><td>deceased </td><td>:</td><td>string</td></tr>\n<tr><td>time     </td><td>:</td><td>string</td></tr>\n<tr><td>age      </td><td>:</td><td>string</td></tr>\n</tbody>\n</table>"
     },
     "metadata": {}
    },
    {
     "output_type": "stream",
     "name": "stdout",
     "text": [
      "----------------------------------------\nTable Name :     time_gender\n----------------------------------------\n"
     ]
    },
    {
     "output_type": "display_data",
     "data": {
      "text/plain": "<IPython.core.display.HTML object>",
      "text/html": "<table>\n<tbody>\n<tr><td>date     </td><td>:</td><td>date  </td></tr>\n<tr><td>confirmed</td><td>:</td><td>int   </td></tr>\n<tr><td>sex      </td><td>:</td><td>string</td></tr>\n<tr><td>record_id</td><td>:</td><td>int   </td></tr>\n<tr><td>deceased </td><td>:</td><td>int   </td></tr>\n<tr><td>time     </td><td>:</td><td>int   </td></tr>\n</tbody>\n</table>"
     },
     "metadata": {}
    },
    {
     "output_type": "stream",
     "name": "stdout",
     "text": [
      "----------------------------------------\nTable Name :     time_provience\n----------------------------------------\n"
     ]
    },
    {
     "output_type": "display_data",
     "data": {
      "text/plain": "<IPython.core.display.HTML object>",
      "text/html": "<table>\n<tbody>\n<tr><td>date     </td><td>:</td><td>string</td></tr>\n<tr><td>released </td><td>:</td><td>string</td></tr>\n<tr><td>confirmed</td><td>:</td><td>string</td></tr>\n<tr><td>record_id</td><td>:</td><td>string</td></tr>\n<tr><td>deceased </td><td>:</td><td>string</td></tr>\n<tr><td>time     </td><td>:</td><td>string</td></tr>\n<tr><td>province </td><td>:</td><td>string</td></tr>\n</tbody>\n</table>"
     },
     "metadata": {}
    },
    {
     "output_type": "stream",
     "name": "stdout",
     "text": [
      "----------------------------------------\nTable Name :     time_reported\n----------------------------------------\n"
     ]
    },
    {
     "output_type": "display_data",
     "data": {
      "text/plain": "<IPython.core.display.HTML object>",
      "text/html": "<table>\n<tbody>\n<tr><td>date     </td><td>:</td><td>string</td></tr>\n<tr><td>released </td><td>:</td><td>string</td></tr>\n<tr><td>test     </td><td>:</td><td>string</td></tr>\n<tr><td>confirmed</td><td>:</td><td>string</td></tr>\n<tr><td>record_id</td><td>:</td><td>string</td></tr>\n<tr><td>negative </td><td>:</td><td>string</td></tr>\n<tr><td>deceased </td><td>:</td><td>string</td></tr>\n<tr><td>time     </td><td>:</td><td>string</td></tr>\n</tbody>\n</table>"
     },
     "metadata": {}
    },
    {
     "output_type": "stream",
     "name": "stdout",
     "text": [
      "----------------------------------------\nTable Name :     weather_south_korea\n----------------------------------------\n"
     ]
    },
    {
     "output_type": "display_data",
     "data": {
      "text/plain": "<IPython.core.display.HTML object>",
      "text/html": "<table>\n<tbody>\n<tr><td>date                 </td><td>:</td><td>string</td></tr>\n<tr><td>most_wind_direction  </td><td>:</td><td>string</td></tr>\n<tr><td>code                 </td><td>:</td><td>string</td></tr>\n<tr><td>max_wind_speed       </td><td>:</td><td>string</td></tr>\n<tr><td>precipitation        </td><td>:</td><td>string</td></tr>\n<tr><td>max_temp             </td><td>:</td><td>string</td></tr>\n<tr><td>avg_relative_humidity</td><td>:</td><td>string</td></tr>\n<tr><td>record_id            </td><td>:</td><td>string</td></tr>\n<tr><td>province             </td><td>:</td><td>string</td></tr>\n<tr><td>min_temp             </td><td>:</td><td>string</td></tr>\n<tr><td>avg_temp             </td><td>:</td><td>string</td></tr>\n</tbody>\n</table>"
     },
     "metadata": {}
    }
   ],
   "source": [
    "for tables in response[\"TableList\"]:\n",
    "    print(\"----------------------------------------\")\n",
    "    print('Table Name :    ' , tables['Name'])\n",
    "    print(\"----------------------------------------\")\n",
    "    table = []\n",
    "    for attribute in (tables['StorageDescriptor']['Columns']):\n",
    "        table.append( [attribute [\"Name\"] , ':' , attribute [\"Type\"]])\n",
    "    display(HTML(tabulate.tabulate(table, tablefmt='html')))\n"
   ]
  },
  {
   "cell_type": "code",
   "execution_count": 37,
   "metadata": {},
   "outputs": [],
   "source": [
    "\n",
    "response = glue_client.update_table(\n",
    "    DatabaseName='ds4c_metadata',\n",
    "    TableInput={\n",
    "        'Name': 'time_gender',\n",
    "        'Owner': 'Anil Kumar Kanasani',\n",
    "        'LastAccessTime': datetime.now(),\n",
    "        'LastAnalyzedTime': datetime.now(),\n",
    "        'StorageDescriptor': {\n",
    "            'Columns': [\n",
    "                {\n",
    "                    'Name': 'date',\n",
    "                    'Type': 'date'\n",
    "                },\n",
    "\n",
    "                {\n",
    "                    'Name': 'confirmed',\n",
    "                    'Type': 'int'\n",
    "\n",
    "                },\n",
    "\n",
    "                 {\n",
    "                    'Name': 'sex',\n",
    "                    'Type': 'string'\n",
    "                },\n",
    "\n",
    "                {\n",
    "                    'Name': 'record_id',\n",
    "                    'Type': 'int'\n",
    "                },\n",
    "\n",
    "                {\n",
    "                    'Name': 'deceased',\n",
    "                    'Type': 'int'\n",
    "                },\n",
    "\n",
    "                 {\n",
    "                    'Name': 'time',\n",
    "                    'Type': 'int'\n",
    "                }\n",
    "\n",
    "            ]\n",
    "        }\n",
    "    }\n",
    ")"
   ]
  }
 ]
}